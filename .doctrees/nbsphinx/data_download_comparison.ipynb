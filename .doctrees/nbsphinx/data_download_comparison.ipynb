{
 "cells": [
  {
   "cell_type": "markdown",
   "execution_count": null,
   "metadata": {},
   "outputs": [],
   "source": [
    "# Data Source Comparison\n",
    "This document describes how the data changed, when moving from the old data source, to the new IATI data source."
   ]
  },
  {
   "cell_type": "code",
   "execution_count": 4,
   "metadata": {},
   "outputs": [],
   "source": [
    "import os\n",
    "os.chdir('/home/jovyan/iati-partner-search/ips_python')"
   ]
  },
  {
   "cell_type": "code",
   "execution_count": 16,
   "metadata": {},
   "outputs": [],
   "source": [
    "import pandas as pd\n",
    "import matplotlib.pyplot as plt\n",
    "from os.path import join\n",
    "from constants import (\n",
    "    PROCESSED_RECORDS_FILENAME,\n",
    "    INPUT_DATA_FILENAME)\n",
    "from utils import get_data_path\n",
    "from preprocessing import preprocess_pipeline"
   ]
  },
  {
   "cell_type": "code",
   "execution_count": 6,
   "metadata": {},
   "outputs": [],
   "source": [
    "#read new data\n",
    "df_new = pd.read_csv(join(get_data_path(), INPUT_DATA_FILENAME.replace('.csv', '_new.csv')), encoding=\"iso-8859-1\")"
   ]
  },
  {
   "cell_type": "code",
   "execution_count": 8,
   "metadata": {},
   "outputs": [
    {
     "data": {
      "text/plain": [
       "0"
      ]
     },
     "execution_count": 8,
     "metadata": {},
     "output_type": "execute_result"
    }
   ],
   "source": [
    "#Check description_narrative and description_narrative_text columns contain identical number of characters (expected: no rows):\n",
    "df_new[df_new['description_narrative'].map(str).apply(len) != df_new['description_narrative_text'].map(str).apply(len)].shape[0]"
   ]
  },
  {
   "cell_type": "code",
   "execution_count": 9,
   "metadata": {},
   "outputs": [],
   "source": [
    "#Rename columns to match old data\n",
    "df_new = df_new.rename(columns={'description_narrative_text': 'description', 'title_narrative_text': 'title', 'iati_identifier':'iati.identifier'})\n",
    "df_new = df_new[['iati.identifier', 'title', 'description']]"
   ]
  },
  {
   "cell_type": "code",
   "execution_count": 10,
   "metadata": {},
   "outputs": [
    {
     "name": "stderr",
     "output_type": "stream",
     "text": [
      "/opt/conda/lib/python3.7/site-packages/IPython/core/interactiveshell.py:3058: DtypeWarning: Columns (2,3,7,10,11,12,13,14,15,16,17,18,20,22,23,24,25,26,28,29,30,31,32,33,34,35,36,37,38,39,40,41,46,47,48,49,50,51,52,54,55) have mixed types. Specify dtype option on import or set low_memory=False.\n",
      "  interactivity=interactivity, compiler=compiler, result=result)\n"
     ]
    }
   ],
   "source": [
    "#read old data\n",
    "df_old = pd.read_csv(join(get_data_path(), INPUT_DATA_FILENAME.replace('.csv', '_old.csv')), encoding=\"iso-8859-1\")\n",
    "df_old = df_old[['iati.identifier', 'title', 'description']]"
   ]
  },
  {
   "cell_type": "code",
   "execution_count": 11,
   "metadata": {},
   "outputs": [
    {
     "name": "stdout",
     "output_type": "stream",
     "text": [
      "new df row count before clean: 962449\n",
      "new df row count after clean: 959355\n",
      "old df row count before clean: 1020000\n",
      "old df row count after clean: 1009067\n"
     ]
    }
   ],
   "source": [
    "# clean empty text and merge title\n",
    "print(\"new df row count before clean: {0}\".format(df_new.shape[0]))\n",
    "df_new = df_new.loc[~df_new[\"iati.identifier\"].isna()]\n",
    "df_new = df_new[~df_new[\"iati.identifier\"].str.isspace()]\n",
    "df_new.loc[df_new[\"description\"].isna(), [\"description\"]] = df_new[\"title\"]\n",
    "df_new.loc[\"description\"] = df_new[\"title\"] + \" \" + df_new[\"description\"]\n",
    "df_new =df_new.loc[~df_new[\"description\"].isna()]\n",
    "df_new =df_new.loc[~df_new[\"description\"].str.isspace()]\n",
    "print(\"new df row count after clean: {0}\".format(df_new.shape[0]))\n",
    "print(\"old df row count before clean: {0}\".format(df_old.shape[0]))\n",
    "df_old = df_old.loc[~df_old[\"iati.identifier\"].isna()]\n",
    "df_old = df_old[~df_old[\"iati.identifier\"].str.isspace()]\n",
    "df_old.loc[df_old[\"description\"].isna(), [\"description\"]] = df_old[\"title\"]\n",
    "df_old.loc[\"description\"] = df_old[\"title\"] + \" \" + df_old[\"description\"]\n",
    "df_old =df_old.loc[~df_old[\"description\"].isna()]\n",
    "df_old =df_old.loc[~df_old[\"description\"].str.isspace()]\n",
    "print(\"old df row count after clean: {0}\".format(df_old.shape[0]))"
   ]
  },
  {
   "cell_type": "code",
   "execution_count": 12,
   "metadata": {},
   "outputs": [
    {
     "name": "stdout",
     "output_type": "stream",
     "text": [
      "count of iati_identifier in new, not in old: 320662\n",
      "count of iati_identifier in old, not in new: 370374\n"
     ]
    }
   ],
   "source": [
    "#Number of IATI Identifier values in new, not old and in old, not new\n",
    "print(\"count of iati_identifier in new, not in old: {0}\".format(df_new[~df_new['iati.identifier'].isin(df_old['iati.identifier'])].shape[0]))\n",
    "\n",
    "print(\"count of iati_identifier in old, not in new: {0}\".format(df_old[~df_old['iati.identifier'].isin(df_new['iati.identifier'])].shape[0]))"
   ]
  },
  {
   "cell_type": "code",
   "execution_count": 13,
   "metadata": {},
   "outputs": [
    {
     "name": "stdout",
     "output_type": "stream",
     "text": [
      "Initial NEW DF word stats \n",
      "count    959355.000000\n",
      "mean         51.589194\n",
      "std         109.683399\n",
      "min           1.000000\n",
      "25%          10.000000\n",
      "50%          16.000000\n",
      "75%          51.000000\n",
      "max       12524.000000\n",
      "Name: words, dtype: float64\n"
     ]
    }
   ],
   "source": [
    "df_new['words'] = df_new['description'].str.count(' ').add(1)\n",
    "\n",
    "print(\"Initial NEW DF word stats \\n{0}\".format(df_new['words'].describe()))"
   ]
  },
  {
   "cell_type": "code",
   "execution_count": 21,
   "metadata": {},
   "outputs": [
    {
     "name": "stdout",
     "output_type": "stream",
     "text": [
      "Initial OLD DF word stats \n",
      "count   1009067.000000\n",
      "mean         36.744806\n",
      "std          74.189388\n",
      "min           1.000000\n",
      "25%           8.000000\n",
      "50%          14.000000\n",
      "75%          39.000000\n",
      "max       12524.000000\n",
      "Name: words, dtype: float64\n"
     ]
    }
   ],
   "source": [
    "df_old['words'] = df_old['description'].str.count(' ').add(1)\n",
    "pd.set_option('float_format', '{:f}'.format)\n",
    "print(\"Initial OLD DF word stats \\n{0}\".format(df_old['words'].describe()))"
   ]
  },
  {
   "cell_type": "code",
   "execution_count": 19,
   "metadata": {},
   "outputs": [],
   "source": [
    "df_new = preprocess_pipeline(df_new)"
   ]
  },
  {
   "cell_type": "code",
   "execution_count": 23,
   "metadata": {},
   "outputs": [
    {
     "name": "stdout",
     "output_type": "stream",
     "text": [
      "Preprocessed NEW DF word stats \n",
      "count   845945.000000\n",
      "mean        17.848165\n",
      "std         33.220827\n",
      "min          1.000000\n",
      "25%          3.000000\n",
      "50%          8.000000\n",
      "75%         18.000000\n",
      "max       4402.000000\n",
      "Name: words, dtype: float64\n"
     ]
    }
   ],
   "source": [
    "df_new['words'] = df_new['description'].str.count(' ').add(1)\n",
    "print(\"Preprocessed NEW DF word stats \\n{0}\".format(df_new['words'].describe()))"
   ]
  },
  {
   "cell_type": "code",
   "execution_count": null,
   "metadata": {},
   "outputs": [],
   "source": [
    "df_old = preprocess_pipeline(df_old)"
   ]
  },
  {
   "cell_type": "code",
   "execution_count": 28,
   "metadata": {},
   "outputs": [
    {
     "name": "stdout",
     "output_type": "stream",
     "text": [
      "Preprocessed OLD DF word stats \n",
      "count   804690.000000\n",
      "mean        13.786120\n",
      "std         22.610445\n",
      "min          1.000000\n",
      "25%          3.000000\n",
      "50%          6.000000\n",
      "75%         16.000000\n",
      "max       4427.000000\n",
      "Name: words, dtype: float64\n"
     ]
    }
   ],
   "source": [
    "df_old['words'] = df_old['description'].str.count(' ').add(1)\n",
    "print(\"Preprocessed OLD DF word stats \\n{0}\".format(df_old['words'].describe()))"
   ]
  },
  {
   "cell_type": "code",
   "execution_count": 33,
   "metadata": {},
   "outputs": [
    {
     "data": {
      "image/png": "[encoded data removed]",
      "text/plain": [
       "<Figure size 1440x720 with 1 Axes>"
      ]
     },
     "metadata": {
      "needs_background": "light"
     },
     "output_type": "display_data"
    }
   ],
   "source": [
    "plt.figure(figsize=(20,10))\n",
    "plt.hist(df_new['words'], bins=15, range=[0,30], alpha=0.5, label='new pre-processed')\n",
    "plt.hist(df_old['words'], bins=15, range=[0,30],alpha=0.5, label='old pre-processed')\n",
    "plt.legend(prop={'size':20})\n",
    "plt.xlabel('word count per record')\n",
    "plt.ylabel('frequency')\n",
    "plt.show()"
   ]
  }
 ],
 "metadata": {
  "kernelspec": {
   "display_name": "Python 3",
   "language": "python",
   "name": "python3"
  },
  "language_info": {
   "codemirror_mode": {
    "name": "ipython",
    "version": 3
   },
   "file_extension": ".py",
   "mimetype": "text/x-python",
   "name": "python",
   "nbconvert_exporter": "python",
   "pygments_lexer": "ipython3",
   "version": "3.7.3"
  }
 },
 "nbformat": 4,
 "nbformat_minor": 4
}
