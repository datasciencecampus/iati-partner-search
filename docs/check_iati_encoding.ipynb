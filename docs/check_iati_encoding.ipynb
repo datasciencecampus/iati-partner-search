{
 "cells": [
  {
   "cell_type": "markdown",
   "metadata": {},
   "source": [
    "# Check the CSV Encoding with IATI.Cloud\n",
    "There are issues with the CSV encoding, which are described [here](https://github.com/datasciencecampus/iati-partner-search/issues/113)"
   ]
  },
  {
   "cell_type": "code",
   "execution_count": 1,
   "metadata": {},
   "outputs": [],
   "source": [
    "from os import remove\n",
    "import pandas as pd\n",
    "import requests\n",
    "from pprint import pprint"
   ]
  },
  {
   "cell_type": "code",
   "execution_count": 2,
   "metadata": {},
   "outputs": [],
   "source": [
    "EXAMPLE_1_ID = \"SE-0-SE-6-5504005318-ZAF-99810\"\n",
    "EXAMPLE_2_ID = \"NL-KVK-27248417-3818-L15068\"\n",
    "\n",
    "ENCODING_EXAMPLE_1 = \"KR-GOV-051-2016140000008\""
   ]
  },
  {
   "cell_type": "code",
   "execution_count": 3,
   "metadata": {},
   "outputs": [],
   "source": [
    "def print_gap():\n",
    "    print(\"\\n>>>>>>>>\\n\")\n",
    "\n",
    "def get_iaticloud_data_url_from_activity_id(iati_id, format=\"csv\", number_of_results=1):\n",
    "    return (\n",
    "        f\"http://iati.cloud/search/activity?q=(iati_identifier:\\\"{iati_id}\\\")&\"\n",
    "        f\"fl=id,iati_identifier,title_narrative_text,description_narrative_text&\"\n",
    "        f\"wt={format}&rows={number_of_results}\"\n",
    "    )\n",
    "\n",
    "def get_first_description_from_dataframe(dataframe):\n",
    "    return dataframe[\"description_narrative_text\"][0]\n",
    "\n",
    "def get_description_from_csv(iati_id):\n",
    "    info_url = get_iaticloud_data_url_from_activity_id(iati_id, format=\"csv\", number_of_results=1)\n",
    "    dataframe = pd.read_csv(info_url)\n",
    "    return get_first_description_from_dataframe(dataframe)"
   ]
  },
  {
   "cell_type": "code",
   "execution_count": 4,
   "metadata": {},
   "outputs": [
    {
     "name": "stdout",
     "output_type": "stream",
     "text": [
      "Program development fund - project preparaations\\, meetings and audits,Program development fund - project preparaations\\, meetings and audits\n",
      "\n",
      ">>>>>>>>\n",
      "\n",
      "Especialy woman and children are our target groups\\, because most of the time they have to fetch water now in small creeks with polluted water\\, far away from home.\\nThe whole community is involved by digging the boreholes.,When the boreholes are completed\\, these are accessable for the whole community.\\nSo clean drinking water is near (less risk on diseases) and the people can start farming (generate an income\\, upgrade their living).,Fianancial: \\nIf a pump need any repair (most of the time a minor problem\\, like replacing a small rubber ring) they can call Peter Gichuki for assistance. Paying for his transport is the only thing the community has to pay.  He will provide the pump with the part\\, which we have in stock.\\nIf the borehole has to be deepen\\, the community has to do this (same like digging the borehole).\\n\\nInstitutional:\\nStichting Namelok is involved by tracing the place to dig a borehole and to support the community by digging. Stichting Namelok will provide the materi .....\n"
     ]
    }
   ],
   "source": [
    "print(get_description_from_csv(EXAMPLE_1_ID))\n",
    "print_gap()\n",
    "print(get_description_from_csv(EXAMPLE_2_ID)[:1000], \".....\")"
   ]
  },
  {
   "cell_type": "markdown",
   "metadata": {},
   "source": [
    "Okay, so here we clearly have one kind of encoding, where we have a double `\\\\` to escape the comma and newline characters."
   ]
  },
  {
   "cell_type": "markdown",
   "metadata": {},
   "source": [
    "## What does the decription look like when we ask for JSON?\n",
    "Below are two functions that help us extract the data from the JSON response from IATI.cloud.\n",
    "The response looks like this:\n",
    "```javascript\n",
    "{'response': \n",
    "    {'docs': [\n",
    "        {'description_narrative_text': [\n",
    "            \"STRING WE WANT\",\n",
    "            \"ANOTHER STRING WE WANT\n",
    "          ]\n",
    "         ...\n",
    "        }\n",
    "    ...\n",
    "    }\n",
    " ...\n",
    "}\n",
    "```\n",
    "Note that in this case, the description returns a **list** of strings, whereas we get one long concatenated string from the CSV."
   ]
  },
  {
   "cell_type": "code",
   "execution_count": 5,
   "metadata": {},
   "outputs": [],
   "source": [
    "def get_json_for_activity(iati_id):\n",
    "    url = get_iaticloud_data_url_from_activity_id(iati_id, format=\"json\", number_of_results=10)\n",
    "    return requests.get(url).json()\n",
    "    \n",
    "def get_description_from_json(json_data):\n",
    "    return json_data['response']['docs'][0]['description_narrative_text']\n",
    "\n",
    "def get_json_description_type_and_instance(iati_identifier):\n",
    "    json_data = get_json_for_activity(iati_identifier)\n",
    "    description_narrative_text = get_description_from_json(json_data)\n",
    "    print(\"TYPE:\", type(description_narrative_text))\n",
    "    print(\"LENGTH:\", len(description_narrative_text))\n",
    "    print(\"\")\n",
    "    pprint(description_narrative_text)"
   ]
  },
  {
   "cell_type": "code",
   "execution_count": 6,
   "metadata": {},
   "outputs": [
    {
     "name": "stdout",
     "output_type": "stream",
     "text": [
      "TYPE: <class 'list'>\n",
      "LENGTH: 2\n",
      "\n",
      "['Program development fund - project preparaations, meetings and audits',\n",
      " 'Program development fund - project preparaations, meetings and audits']\n",
      "None\n",
      "\n",
      ">>>>>>>>\n",
      "\n",
      "TYPE: <class 'list'>\n",
      "LENGTH: 8\n",
      "\n",
      "['Especialy woman and children are our target groups, because most of the time '\n",
      " 'they have to fetch water now in small creeks with polluted water, far away '\n",
      " 'from home.\\n'\n",
      " 'The whole community is involved by digging the boreholes.',\n",
      " 'When the boreholes are completed, these are accessable for the whole '\n",
      " 'community.\\n'\n",
      " 'So clean drinking water is near (less risk on diseases) and the people can '\n",
      " 'start farming (generate an income, upgrade their living).',\n",
      " 'Fianancial: \\n'\n",
      " 'If a pump need any repair (most of the time a minor problem, like replacing '\n",
      " 'a small rubber ring) they can call Peter Gichuki for assistance. Paying for '\n",
      " 'his transport is the only thing the community has to pay.  He will provide '\n",
      " 'the pump with the part, which we have in stock.\\n'\n",
      " 'If the borehole has to be deepen, the community has to do this (same like '\n",
      " 'digging the borehole).\\n'\n",
      " '\\n'\n",
      " 'Institutional:\\n'\n",
      " 'Stichting Namelok is involved by tracing the place to dig a borehole and to '\n",
      " 'support the community by digging. Stichting Namelok will provide the '\n",
      " 'materials for the foundation and waterpump.\\n'\n",
      " 'The community is responsable for the borehole and pump.\\n'\n",
      " 'Peter Gichuky is member of stichting Namelok and the Ruai Committee and '\n",
      " 'lives in Kenya.\\n'\n",
      " \"If we are not around and there are problems the community's can contact him, \"\n",
      " 'so he can help the people.\\n'\n",
      " '\\n'\n",
      " 'Environmental:\\n'\n",
      " 'Irrigation is possible when there is water (borehole). The community can '\n",
      " 'start farming. That means a green environment and less erosion. If the '\n",
      " 'waterlevel is going down the community has to dig the borehole deeper.\\n'\n",
      " '\\n'\n",
      " 'Technical:\\n'\n",
      " 'The community is digging the boreholes by hand.\\n'\n",
      " 'If this is finished we (stichting Namelok) will help them with constructing '\n",
      " 'the foundation/cover for this borehole.\\n'\n",
      " 'After that we put a handpump on this cover.\\n'\n",
      " 'The materials for the foundation/cover we buy local.\\n'\n",
      " 'The handpump we buy in Nairobi with the company Davis & Shirtliff.\\n'\n",
      " 'THe mark of the handpump is AFRIDEV.\\n'\n",
      " 'The handpump is very easy to maintain, the only part that needs replacing '\n",
      " 'after about 2 years is a rubber. We have this in stock and Peter is able to '\n",
      " 'replace this. Transport for Peter has te be paid by the community (about  € '\n",
      " \"5). With the income of framing this shouldn't be a problem.\\n\"\n",
      " '\\n'\n",
      " 'Social:\\n'\n",
      " 'The waterproject in Isiolo is a great help for women and children.\\n'\n",
      " 'The water sources are not that far anymore. So they spend less time in '\n",
      " 'fetching water.\\n'\n",
      " 'The children can go to school, the women have extra time to start farming.\\n'\n",
      " 'With farming they will get income, so the living standard will grow.',\n",
      " \"All these areas are very dry, there's a shortage of drinking- and irrigation \"\n",
      " 'water. \\n'\n",
      " \"The local community has to dig there own boreholes, we'll suply them with \"\n",
      " 'materials.\\n'\n",
      " \"End 2016 and begin 2017 we'll realize these boreholes. And we want to repair \"\n",
      " 'at least 5 pumps.',\n",
      " \"The community's dig their own borehole.\\n\"\n",
      " 'If they reach the waterlevel they contact us.\\n'\n",
      " 'We gonna built the foundation and put a handpump.\\n'\n",
      " 'In total we want to realize 12 (Afridev) handpumps with foundation and '\n",
      " 'repair 5 pumps.',\n",
      " 'We visited these areas serveral times. During these visits we saw that there '\n",
      " 'is a lack of clean water for domestic use. \\n'\n",
      " 'After measuring we told them where to dig their boreholes.\\n',\n",
      " \"Some community's in Isiolo (Meru district) are digging their boreholes at \"\n",
      " 'this moment.\\n'\n",
      " 'If the waterlevel is reached they contact us and then stichting Namelok will '\n",
      " 'suply them with materials for the foundation/cover (sand, stones, cement and '\n",
      " 'wood) and a  Afridev waterpump. There are a few Afrdiv pumps (installed long '\n",
      " 'time ago) by on known organisations out of order. We want to repair these '\n",
      " 'pumps.',\n",
      " 'Stichting Namelok']\n",
      "None\n"
     ]
    }
   ],
   "source": [
    "pprint(get_json_description_type_and_instance(EXAMPLE_1_ID))\n",
    "print_gap()\n",
    "pprint(get_json_description_type_and_instance(EXAMPLE_2_ID))"
   ]
  },
  {
   "cell_type": "markdown",
   "metadata": {},
   "source": [
    "Okay, so it's clear that the JSON response also gives us these awkward `\\n` characters in places, but we _don't_ get the `\\,` issues, where commas are escaped. This points to some of the harder points of IATI data, where the structure means that we cannot be certain about the structure of the data and so we need to deal with multiple descriptions, and we struggle with joining them together and consistently delivering them accross different format types."
   ]
  },
  {
   "cell_type": "markdown",
   "metadata": {},
   "source": [
    "## Character Encoding\n",
    "Not only do we need to deal with issues of how descriptions might have been joined together, we also need to consider that we might not be handling the full spectrum of unicode directly.\n",
    "\n",
    "We can see where characters give us issues with `KR-GOV-051-2016140000008` which we've stored as variable `ENCODING_EXAMPLE_1`"
   ]
  },
  {
   "cell_type": "code",
   "execution_count": 7,
   "metadata": {},
   "outputs": [
    {
     "data": {
      "text/plain": [
       "'2개 마을 지역주민 2\\\\,943명의 지속적이고 안전한 급수위생시설 이용과 보건위생 행동양식 습득/2개 마을 주민 2\\\\,943명의 지속적이고 안전한 급수위생시설 접근성 향상과 보건위생 인식 개선,To provide water and sanitation facilities within the community\\\\, to establish water management committees\\\\, to provide health and sanitation education to teachers and students.'"
      ]
     },
     "execution_count": 7,
     "metadata": {},
     "output_type": "execute_result"
    }
   ],
   "source": [
    "get_description_from_csv(ENCODING_EXAMPLE_1)"
   ]
  },
  {
   "cell_type": "markdown",
   "metadata": {},
   "source": [
    "So here we clearly have an example where the characters are being rendered somewhat correctly."
   ]
  },
  {
   "cell_type": "code",
   "execution_count": 8,
   "metadata": {},
   "outputs": [
    {
     "name": "stdout",
     "output_type": "stream",
     "text": [
      "TYPE: <class 'list'>\n",
      "LENGTH: 2\n",
      "\n",
      "['2개 마을 지역주민 2,943명의 지속적이고 안전한 급수위생시설 이용과 보건위생 행동양식 습득/2개 마을 주민 2,943명의 지속적이고 '\n",
      " '안전한 급수위생시설 접근성 향상과 보건위생 인식 개선',\n",
      " 'To provide water and sanitation facilities within the community, to '\n",
      " 'establish water management committees, to provide health and sanitation '\n",
      " 'education to teachers and students.']\n"
     ]
    }
   ],
   "source": [
    "get_json_description_type_and_instance(ENCODING_EXAMPLE_1)"
   ]
  },
  {
   "cell_type": "markdown",
   "metadata": {},
   "source": [
    "This seems to be consistent accross our formats and it's rendering correctly. This leads me to believe that it's how we're storing our CSV file that's the issue"
   ]
  },
  {
   "cell_type": "markdown",
   "metadata": {},
   "source": [
    "## Writing and Reading our CSV File\n",
    "We need to consider that we are not reading the entire response from the IATI.cloud endpoint in to a pandas data frame. In order to keep memory use low, we request the data in chunks and write to the file bit by bit. Let's do that now with a much smaller request and then have a look at the code that we're using to see if changing the encodings would help when we read in the file."
   ]
  },
  {
   "cell_type": "code",
   "execution_count": 9,
   "metadata": {},
   "outputs": [],
   "source": [
    "# A very slightly changed version of the function that we use to download the data\n",
    "\n",
    "import shutil\n",
    "from pathlib import Path\n",
    "from ssl import SSLCertVerificationError\n",
    "\n",
    "def get_and_write_csv_from_url(url, filename):\n",
    "    try:\n",
    "        with requests.get(url, stream=True) as r:\n",
    "            with open(filename, \"wb+\") as f:\n",
    "                shutil.copyfileobj(r.raw, f)\n",
    "    except (SSLCertVerificationError, requests.exceptions.SSLError) as e:\n",
    "        print(f\"Exception: {e}\")\n",
    "        with requests.get(url, stream=True, verify=False) as r:\n",
    "            with open(filename, \"wb+\") as f:\n",
    "                shutil.copyfileobj(r.raw, f)\n",
    "    print(\"Download Complete\")\n",
    "\n",
    "    \n",
    "# a helper function\n",
    "def create_csv_filename(iati_identifier):\n",
    "    return f\"testfile_{iati_identifier}.csv\""
   ]
  },
  {
   "cell_type": "markdown",
   "metadata": {},
   "source": [
    "Great! We have our csv, which we've written to be alongside our current Python notebook. Let's use the 2 different encodings and see what changes . . ."
   ]
  },
  {
   "cell_type": "markdown",
   "metadata": {},
   "source": [
    "### Checking on `\\n` and `\\,` characters when reading and writing CSVs"
   ]
  },
  {
   "cell_type": "code",
   "execution_count": 11,
   "metadata": {},
   "outputs": [
    {
     "name": "stdout",
     "output_type": "stream",
     "text": [
      "Downloading CSV for SE-0-SE-6-5504005318-ZAF-99810 to testfile_SE-0-SE-6-5504005318-ZAF-99810.csv\n",
      "Download Complete\n",
      "\n",
      "\n",
      "1 Reading our Example straight from the API into Pandas:\n",
      "2 Reading our Example from file using ISO encoding\n",
      "3 Reading our Example from file using UTF8 encoding\n",
      "\n",
      "1 Program development fund - project preparaations\\, meetings and audits,Program development fund - project preparaations\\, meetings and audit\n",
      "2 Program development fund - project preparaations\\, meetings and audits,Program development fund - project preparaations\\, meetings and audit\n",
      "3 Program development fund - project preparaations\\, meetings and audits,Program development fund - project preparaations\\, meetings and audit\n",
      "\n",
      "\n",
      "tidying up and removing testfile_SE-0-SE-6-5504005318-ZAF-99810.csv\n"
     ]
    }
   ],
   "source": [
    "def compare_csv_encodings(iati_identifier, start_slice=0, end_slice=-1):\n",
    "    FILENAME = create_csv_filename(iati_identifier)\n",
    "    \n",
    "    url = get_iaticloud_data_url_from_activity_id(iati_identifier, format=\"csv\", number_of_results=10)\n",
    "    print(f\"Downloading CSV for {iati_identifier} to {FILENAME}\")\n",
    "    get_and_write_csv_from_url(url, FILENAME)\n",
    "    print(\"\\n\")\n",
    "    \n",
    "    print(1, \"Reading our Example straight from the API into Pandas:\")\n",
    "    print(2, \"Reading our Example from file using ISO encoding\")\n",
    "    print(3, \"Reading our Example from file using UTF8 encoding\")\n",
    "    print()\n",
    "    \n",
    "    # Straight from API into pandas dataframe (no reading or writing to file)\n",
    "    \n",
    "    print(1, get_description_from_csv(iati_identifier)[start_slice:end_slice])\n",
    "\n",
    "    # ISO Encoding\n",
    "\n",
    "    iso_encoded_dataframe = pd.read_csv(FILENAME, encoding=\"iso-8859-1\")\n",
    "    print(2, get_first_description_from_dataframe(iso_encoded_dataframe)[start_slice:end_slice])\n",
    "\n",
    "    # UTF-8 Encoding\n",
    "\n",
    "    utf8_encoded_dataframe = pd.read_csv(FILENAME, encoding=\"utf-8\")\n",
    "    print(3, get_first_description_from_dataframe(utf8_encoded_dataframe)[start_slice:end_slice])\n",
    "    \n",
    "    print(\"\\n\")\n",
    "    print(f\"tidying up and removing {FILENAME}\")\n",
    "    remove(FILENAME)\n",
    "\n",
    "compare_csv_encodings(EXAMPLE_1_ID)"
   ]
  },
  {
   "cell_type": "markdown",
   "metadata": {},
   "source": [
    "Hmmmmmm. Okay. So it looks like the `\\,` issue is not solved with the encoding.\n",
    "\n",
    "We can confirm this with the second example, but we'll cut the descriptions so it's easier to compare"
   ]
  },
  {
   "cell_type": "code",
   "execution_count": 12,
   "metadata": {},
   "outputs": [
    {
     "name": "stdout",
     "output_type": "stream",
     "text": [
      "Downloading CSV for NL-KVK-27248417-3818-L15068 to testfile_NL-KVK-27248417-3818-L15068.csv\n",
      "Download Complete\n",
      "\n",
      "\n",
      "1 Reading our Example straight from the API into Pandas:\n",
      "2 Reading our Example from file using ISO encoding\n",
      "3 Reading our Example from file using UTF8 encoding\n",
      "\n",
      "1 e like digging the borehole).\\n\\nInstitutional:\\nStichting Namelok is involved by tracing the place \n",
      "2 e like digging the borehole).\\n\\nInstitutional:\\nStichting Namelok is involved by tracing the place \n",
      "3 e like digging the borehole).\\n\\nInstitutional:\\nStichting Namelok is involved by tracing the place \n",
      "\n",
      "\n",
      "tidying up and removing testfile_NL-KVK-27248417-3818-L15068.csv\n"
     ]
    }
   ],
   "source": [
    "# write the new CSV\n",
    "# 800:900 gives us a good example of the string\n",
    "compare_csv_encodings(EXAMPLE_2_ID, start_slice=800, end_slice=900)"
   ]
  },
  {
   "cell_type": "markdown",
   "metadata": {},
   "source": [
    "Again, there is no change. BUT we do have to consider foreign characters! Let's try with our 3rd example:"
   ]
  },
  {
   "cell_type": "code",
   "execution_count": 13,
   "metadata": {},
   "outputs": [
    {
     "name": "stdout",
     "output_type": "stream",
     "text": [
      "Downloading CSV for KR-GOV-051-2016140000008 to testfile_KR-GOV-051-2016140000008.csv\n",
      "Download Complete\n",
      "\n",
      "\n",
      "1 Reading our Example straight from the API into Pandas:\n",
      "2 Reading our Example from file using ISO encoding\n",
      "3 Reading our Example from file using UTF8 encoding\n",
      "\n",
      "1 2개 마을 지역주민 2\\,943명의 지속적이고 안전한 급수위생시설 이용과 보건위생 행동양식 습득/2개 마을 주민 2\\,943명의 지속적이고 안전한 급수위생시설 접근성 향상과 보건위생 인식 개선,To provide water and sanitation facilities within the community\\, to establish water management committees\\, to provide health and sanitation education to teachers and students\n",
      "2 2ê° ë§ì ì§ì­ì£¼ë¯¼ 2\\,943ëª",
      "ì ì§ìì ì´ê³  ìì í ê¸ììììì¤ ì´ì©ê³¼ ë³´ê±´ìì íëìì ìµë/2ê° ë§ì ì£¼ë¯¼ 2\\,943ëª",
      "ì ì§ìì ì´ê³  ìì í ê¸ììììì¤ ì ê·¼ì± í¥ìê³¼ ë³´ê±´ìì ì¸ì ê°ì ,To provide water and sanitation facilities within the community\\, to establish water management committees\\, to provide health and sanitation education to teachers and students\n",
      "3 2개 마을 지역주민 2\\,943명의 지속적이고 안전한 급수위생시설 이용과 보건위생 행동양식 습득/2개 마을 주민 2\\,943명의 지속적이고 안전한 급수위생시설 접근성 향상과 보건위생 인식 개선,To provide water and sanitation facilities within the community\\, to establish water management committees\\, to provide health and sanitation education to teachers and students\n",
      "\n",
      "\n",
      "tidying up and removing testfile_KR-GOV-051-2016140000008.csv\n"
     ]
    }
   ],
   "source": [
    "compare_csv_encodings(ENCODING_EXAMPLE_1)"
   ]
  },
  {
   "cell_type": "markdown",
   "metadata": {},
   "source": [
    "Aha! We have some success here! Note that when we do `iso` encoding, we get garbled characters back. This means that we can change the encoding to UTF-8 and we should get back more sensible results."
   ]
  }
 ],
 "metadata": {
  "kernelspec": {
   "display_name": "Python 3",
   "language": "python",
   "name": "python3"
  },
  "language_info": {
   "codemirror_mode": {
    "name": "ipython",
    "version": 3
   },
   "file_extension": ".py",
   "mimetype": "text/x-python",
   "name": "python",
   "nbconvert_exporter": "python",
   "pygments_lexer": "ipython3",
   "version": "3.7.3"
  }
 },
 "nbformat": 4,
 "nbformat_minor": 4
}
