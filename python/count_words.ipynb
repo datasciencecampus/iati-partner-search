{
 "cells": [
  {
   "cell_type": "code",
   "execution_count": 108,
   "metadata": {},
   "outputs": [],
   "source": [
    "import pandas as pd\n",
    "import matplotlib.pyplot as plt\n",
    "from os.path import join\n",
    "from constants import (\n",
    "    PROCESSED_RECORDS_FILENAME,\n",
    "    INPUT_DATA_FILENAME)\n",
    "from utils import get_data_path\n",
    "from preprocessing import preprocessing_initial_text_clean"
   ]
  },
  {
   "cell_type": "code",
   "execution_count": 95,
   "metadata": {},
   "outputs": [
    {
     "name": "stderr",
     "output_type": "stream",
     "text": [
      "C:\\Users\\t-wilson\\AppData\\Local\\Continuum\\anaconda3\\lib\\site-packages\\IPython\\core\\interactiveshell.py:3057: DtypeWarning: Columns (2,3,7,10,11,12,13,14,15,16,17,18,20,22,23,24,25,26,28,29,30,31,32,33,34,35,36,37,38,39,40,41,46,47,48,49,50,51,52,54,55) have mixed types. Specify dtype option on import or set low_memory=False.\n",
      "  interactivity=interactivity, compiler=compiler, result=result)\n"
     ]
    }
   ],
   "source": [
    "df = pd.read_csv(join(get_data_path(), INPUT_DATA_FILENAME), encoding=\"iso-8859-1\")\n",
    "preprocessed_df = pd.read_csv(join(get_data_path(), PROCESSED_RECORDS_FILENAME), encoding=\"iso-8859-1\")"
   ]
  },
  {
   "cell_type": "code",
   "execution_count": 96,
   "metadata": {},
   "outputs": [],
   "source": [
    "df = df[['iati.identifier','description', 'title']]"
   ]
  },
  {
   "cell_type": "code",
   "execution_count": 97,
   "metadata": {},
   "outputs": [],
   "source": [
    "# Remove record in current full dataset with null iati.identifer\n",
    "df = df[~df[\"iati.identifier\"].str.isspace()]\n",
    "\n",
    "# If both description and title not NA concatenate them into description column\n",
    "df.loc[~df[\"description\"].isna() & ~df[\"title\"].isna(), [\"description\"]] = (\n",
    "    df[\"title\"] + \" \" + df[\"description\"]\n",
    ")\n",
    "\n",
    "# If description is NA replace with title\n",
    "df.loc[df[\"description\"].isna(), [\"description\"]] = df[\"title\"]"
   ]
  },
  {
   "cell_type": "code",
   "execution_count": 98,
   "metadata": {},
   "outputs": [],
   "source": [
    "df = preprocessing_initial_text_clean(df, 'description')"
   ]
  },
  {
   "cell_type": "code",
   "execution_count": 99,
   "metadata": {},
   "outputs": [],
   "source": [
    "df['words'] = df['description'].str.count(' ').add(1)\n",
    "preprocessed_df['words'] = preprocessed_df['description'].str.count(' ').add(1)    "
   ]
  },
  {
   "cell_type": "code",
   "execution_count": 100,
   "metadata": {},
   "outputs": [],
   "source": [
    "df = df[df['iati.identifier'].isin(preprocessed_df['iati.identifier'])]"
   ]
  },
  {
   "cell_type": "code",
   "execution_count": 101,
   "metadata": {},
   "outputs": [
    {
     "name": "stdout",
     "output_type": "stream",
     "text": [
      "Initial DF word stats \n",
      "count    783035.000000\n",
      "mean         48.899398\n",
      "std          77.993783\n",
      "min           1.000000\n",
      "25%          14.000000\n",
      "50%          26.000000\n",
      "75%          49.000000\n",
      "max       12135.000000\n",
      "Name: words, dtype: float64\n"
     ]
    }
   ],
   "source": [
    "print(\"Initial DF word stats \\n{0}\".format(df['words'].describe()))"
   ]
  },
  {
   "cell_type": "code",
   "execution_count": 102,
   "metadata": {},
   "outputs": [
    {
     "name": "stdout",
     "output_type": "stream",
     "text": [
      "Pre-processed DF word stats \n",
      "count    783035.000000\n",
      "mean         12.717107\n",
      "std          21.629170\n",
      "min           1.000000\n",
      "25%           2.000000\n",
      "50%           6.000000\n",
      "75%          15.000000\n",
      "max        4110.000000\n",
      "Name: words, dtype: float64\n"
     ]
    }
   ],
   "source": [
    "print(\"Pre-processed DF word stats \\n{0}\".format(preprocessed_df['words'].describe()))"
   ]
  },
  {
   "cell_type": "code",
   "execution_count": 122,
   "metadata": {},
   "outputs": [
    {
     "data": {
      "image/png": "[encoded data removed]",
      "text/plain": [
       "<Figure size 1440x720 with 1 Axes>"
      ]
     },
     "metadata": {
      "needs_background": "light"
     },
     "output_type": "display_data"
    }
   ],
   "source": [
    "plt.figure(figsize=(20,10))\n",
    "plt.hist(df['words'], bins=100, range=[0,200], alpha=0.5, label='intial text')\n",
    "plt.hist(preprocessed_df['words'], bins=100, range=[0,200],alpha=0.5, label='pre-processed text')\n",
    "plt.legend(prop={'size':20})\n",
    "plt.show()"
   ]
  }
 ],
 "metadata": {
  "kernelspec": {
   "display_name": "Python 3",
   "language": "python",
   "name": "python3"
  },
  "language_info": {
   "codemirror_mode": {
    "name": "ipython",
    "version": 3
   },
   "file_extension": ".py",
   "mimetype": "text/x-python",
   "name": "python",
   "nbconvert_exporter": "python",
   "pygments_lexer": "ipython3",
   "version": "3.7.3"
  }
 },
 "nbformat": 4,
 "nbformat_minor": 2
}
